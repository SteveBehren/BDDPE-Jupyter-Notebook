{
 "cells": [
  {
   "cell_type": "code",
   "execution_count": 129,
   "id": "d71d712a-8e32-49fd-a70f-af90dd57d5be",
   "metadata": {},
   "outputs": [],
   "source": [
    "import pandas as pd\n",
    "import seaborn as sns\n",
    "from sklearn.linear_model import LinearRegression\n",
    "from sklearn.metrics import mean_squared_error\n",
    "from sklearn.metrics import r2_score"
   ]
  },
  {
   "cell_type": "code",
   "execution_count": 130,
   "id": "414bb687-f059-4bac-8e7a-4a5c5ac3851c",
   "metadata": {},
   "outputs": [],
   "source": [
    "survey = pd.read_csv(\"survey.csv\")\n",
    "steps = pd.read_csv(\"steps.csv\", sep=\";\")"
   ]
  },
  {
   "cell_type": "code",
   "execution_count": 131,
   "id": "f1d5fe1d-928a-4407-b10d-f3aa6c430a94",
   "metadata": {},
   "outputs": [
    {
     "data": {
      "text/plain": "   id  20-6-2013  21-6-2013  22-6-2013  23-6-2013  24-6-2013  25-6-2013  \\\n0   1        NaN        NaN        NaN        NaN     3941.0    15733.0   \n1   2        NaN        NaN    10473.0      705.0     4287.0     5507.0   \n2   3        NaN    11428.0    12523.0     2553.0      190.0     2164.0   \n3   4        NaN        NaN        NaN        NaN        NaN        NaN   \n4   5        NaN        NaN        NaN        NaN        NaN        NaN   \n\n   26-6-2013  27-6-2013  28-6-2013  ...  4-5-2014  5-5-2014  6-5-2014  \\\n0     9929.0    12879.0    10541.0  ...       NaN       NaN       NaN   \n1     4024.0     3926.0    14595.0  ...       NaN       NaN       NaN   \n2     8185.0     9630.0     8983.0  ...    3914.0    4364.0       NaN   \n3        NaN        NaN        NaN  ...       NaN       NaN       NaN   \n4        NaN        NaN        NaN  ...       NaN       NaN       NaN   \n\n   7-5-2014  8-5-2014  9-5-2014  10-5-2014  11-5-2014  12-5-2014  13-5-2014  \n0       NaN       NaN       NaN        NaN        NaN        NaN        NaN  \n1       NaN       NaN       NaN        NaN        NaN        NaN        NaN  \n2       NaN       NaN    6227.0     4567.0     2567.0     1129.0        NaN  \n3       NaN       NaN       NaN        NaN        NaN        NaN        NaN  \n4       NaN       NaN       NaN        NaN        NaN        NaN        NaN  \n\n[5 rows x 329 columns]",
      "text/html": "<div>\n<style scoped>\n    .dataframe tbody tr th:only-of-type {\n        vertical-align: middle;\n    }\n\n    .dataframe tbody tr th {\n        vertical-align: top;\n    }\n\n    .dataframe thead th {\n        text-align: right;\n    }\n</style>\n<table border=\"1\" class=\"dataframe\">\n  <thead>\n    <tr style=\"text-align: right;\">\n      <th></th>\n      <th>id</th>\n      <th>20-6-2013</th>\n      <th>21-6-2013</th>\n      <th>22-6-2013</th>\n      <th>23-6-2013</th>\n      <th>24-6-2013</th>\n      <th>25-6-2013</th>\n      <th>26-6-2013</th>\n      <th>27-6-2013</th>\n      <th>28-6-2013</th>\n      <th>...</th>\n      <th>4-5-2014</th>\n      <th>5-5-2014</th>\n      <th>6-5-2014</th>\n      <th>7-5-2014</th>\n      <th>8-5-2014</th>\n      <th>9-5-2014</th>\n      <th>10-5-2014</th>\n      <th>11-5-2014</th>\n      <th>12-5-2014</th>\n      <th>13-5-2014</th>\n    </tr>\n  </thead>\n  <tbody>\n    <tr>\n      <th>0</th>\n      <td>1</td>\n      <td>NaN</td>\n      <td>NaN</td>\n      <td>NaN</td>\n      <td>NaN</td>\n      <td>3941.0</td>\n      <td>15733.0</td>\n      <td>9929.0</td>\n      <td>12879.0</td>\n      <td>10541.0</td>\n      <td>...</td>\n      <td>NaN</td>\n      <td>NaN</td>\n      <td>NaN</td>\n      <td>NaN</td>\n      <td>NaN</td>\n      <td>NaN</td>\n      <td>NaN</td>\n      <td>NaN</td>\n      <td>NaN</td>\n      <td>NaN</td>\n    </tr>\n    <tr>\n      <th>1</th>\n      <td>2</td>\n      <td>NaN</td>\n      <td>NaN</td>\n      <td>10473.0</td>\n      <td>705.0</td>\n      <td>4287.0</td>\n      <td>5507.0</td>\n      <td>4024.0</td>\n      <td>3926.0</td>\n      <td>14595.0</td>\n      <td>...</td>\n      <td>NaN</td>\n      <td>NaN</td>\n      <td>NaN</td>\n      <td>NaN</td>\n      <td>NaN</td>\n      <td>NaN</td>\n      <td>NaN</td>\n      <td>NaN</td>\n      <td>NaN</td>\n      <td>NaN</td>\n    </tr>\n    <tr>\n      <th>2</th>\n      <td>3</td>\n      <td>NaN</td>\n      <td>11428.0</td>\n      <td>12523.0</td>\n      <td>2553.0</td>\n      <td>190.0</td>\n      <td>2164.0</td>\n      <td>8185.0</td>\n      <td>9630.0</td>\n      <td>8983.0</td>\n      <td>...</td>\n      <td>3914.0</td>\n      <td>4364.0</td>\n      <td>NaN</td>\n      <td>NaN</td>\n      <td>NaN</td>\n      <td>6227.0</td>\n      <td>4567.0</td>\n      <td>2567.0</td>\n      <td>1129.0</td>\n      <td>NaN</td>\n    </tr>\n    <tr>\n      <th>3</th>\n      <td>4</td>\n      <td>NaN</td>\n      <td>NaN</td>\n      <td>NaN</td>\n      <td>NaN</td>\n      <td>NaN</td>\n      <td>NaN</td>\n      <td>NaN</td>\n      <td>NaN</td>\n      <td>NaN</td>\n      <td>...</td>\n      <td>NaN</td>\n      <td>NaN</td>\n      <td>NaN</td>\n      <td>NaN</td>\n      <td>NaN</td>\n      <td>NaN</td>\n      <td>NaN</td>\n      <td>NaN</td>\n      <td>NaN</td>\n      <td>NaN</td>\n    </tr>\n    <tr>\n      <th>4</th>\n      <td>5</td>\n      <td>NaN</td>\n      <td>NaN</td>\n      <td>NaN</td>\n      <td>NaN</td>\n      <td>NaN</td>\n      <td>NaN</td>\n      <td>NaN</td>\n      <td>NaN</td>\n      <td>NaN</td>\n      <td>...</td>\n      <td>NaN</td>\n      <td>NaN</td>\n      <td>NaN</td>\n      <td>NaN</td>\n      <td>NaN</td>\n      <td>NaN</td>\n      <td>NaN</td>\n      <td>NaN</td>\n      <td>NaN</td>\n      <td>NaN</td>\n    </tr>\n  </tbody>\n</table>\n<p>5 rows × 329 columns</p>\n</div>"
     },
     "execution_count": 131,
     "metadata": {},
     "output_type": "execute_result"
    }
   ],
   "source": [
    "steps.head()"
   ]
  },
  {
   "cell_type": "code",
   "execution_count": 132,
   "id": "87f2ac3b-ae40-44d9-bc56-d16fe0935d3a",
   "metadata": {},
   "outputs": [
    {
     "data": {
      "text/plain": "   id         city  gender    age  hh_size  education          education_1  \\\n0   1     Bordeaux    Male  25-34        4          4  Master or doctorate   \n1   2        Lille    Male  35-44        1          3             Bachelor   \n2   3  Montpellier    Male  25-34        2          2  Master or doctorate   \n3   4         Lyon    Male    <25        1          1             Bachelor   \n4   5  Montpellier  Female  25-34        3          4             Bachelor   \n\n   height  weight  \n0   178.0    98.0  \n1   180.0    77.0  \n2   180.0    83.0  \n3   178.0    80.0  \n4   167.0    61.0  ",
      "text/html": "<div>\n<style scoped>\n    .dataframe tbody tr th:only-of-type {\n        vertical-align: middle;\n    }\n\n    .dataframe tbody tr th {\n        vertical-align: top;\n    }\n\n    .dataframe thead th {\n        text-align: right;\n    }\n</style>\n<table border=\"1\" class=\"dataframe\">\n  <thead>\n    <tr style=\"text-align: right;\">\n      <th></th>\n      <th>id</th>\n      <th>city</th>\n      <th>gender</th>\n      <th>age</th>\n      <th>hh_size</th>\n      <th>education</th>\n      <th>education_1</th>\n      <th>height</th>\n      <th>weight</th>\n    </tr>\n  </thead>\n  <tbody>\n    <tr>\n      <th>0</th>\n      <td>1</td>\n      <td>Bordeaux</td>\n      <td>Male</td>\n      <td>25-34</td>\n      <td>4</td>\n      <td>4</td>\n      <td>Master or doctorate</td>\n      <td>178.0</td>\n      <td>98.0</td>\n    </tr>\n    <tr>\n      <th>1</th>\n      <td>2</td>\n      <td>Lille</td>\n      <td>Male</td>\n      <td>35-44</td>\n      <td>1</td>\n      <td>3</td>\n      <td>Bachelor</td>\n      <td>180.0</td>\n      <td>77.0</td>\n    </tr>\n    <tr>\n      <th>2</th>\n      <td>3</td>\n      <td>Montpellier</td>\n      <td>Male</td>\n      <td>25-34</td>\n      <td>2</td>\n      <td>2</td>\n      <td>Master or doctorate</td>\n      <td>180.0</td>\n      <td>83.0</td>\n    </tr>\n    <tr>\n      <th>3</th>\n      <td>4</td>\n      <td>Lyon</td>\n      <td>Male</td>\n      <td>&lt;25</td>\n      <td>1</td>\n      <td>1</td>\n      <td>Bachelor</td>\n      <td>178.0</td>\n      <td>80.0</td>\n    </tr>\n    <tr>\n      <th>4</th>\n      <td>5</td>\n      <td>Montpellier</td>\n      <td>Female</td>\n      <td>25-34</td>\n      <td>3</td>\n      <td>4</td>\n      <td>Bachelor</td>\n      <td>167.0</td>\n      <td>61.0</td>\n    </tr>\n  </tbody>\n</table>\n</div>"
     },
     "execution_count": 132,
     "metadata": {},
     "output_type": "execute_result"
    }
   ],
   "source": [
    "survey.head()"
   ]
  },
  {
   "cell_type": "code",
   "execution_count": 133,
   "id": "fc83655d-a46f-4868-9f7b-f39d7be54537",
   "metadata": {},
   "outputs": [],
   "source": [
    "df = pd.merge(steps, survey, on = \"id\")"
   ]
  },
  {
   "cell_type": "code",
   "execution_count": 134,
   "id": "666e1810-c13a-4c0b-a87e-219cca5b2fef",
   "metadata": {},
   "outputs": [
    {
     "data": {
      "text/plain": "   id  20-6-2013  21-6-2013  22-6-2013  23-6-2013  24-6-2013  25-6-2013  \\\n0   1        NaN        NaN        NaN        NaN     3941.0    15733.0   \n1   2        NaN        NaN    10473.0      705.0     4287.0     5507.0   \n2   3        NaN    11428.0    12523.0     2553.0      190.0     2164.0   \n3   4        NaN        NaN        NaN        NaN        NaN        NaN   \n4   5        NaN        NaN        NaN        NaN        NaN        NaN   \n\n   26-6-2013  27-6-2013  28-6-2013  ...  12-5-2014  13-5-2014         city  \\\n0     9929.0    12879.0    10541.0  ...        NaN        NaN     Bordeaux   \n1     4024.0     3926.0    14595.0  ...        NaN        NaN        Lille   \n2     8185.0     9630.0     8983.0  ...     1129.0        NaN  Montpellier   \n3        NaN        NaN        NaN  ...        NaN        NaN         Lyon   \n4        NaN        NaN        NaN  ...        NaN        NaN  Montpellier   \n\n   gender    age  hh_size  education          education_1  height  weight  \n0    Male  25-34        4          4  Master or doctorate   178.0    98.0  \n1    Male  35-44        1          3             Bachelor   180.0    77.0  \n2    Male  25-34        2          2  Master or doctorate   180.0    83.0  \n3    Male    <25        1          1             Bachelor   178.0    80.0  \n4  Female  25-34        3          4             Bachelor   167.0    61.0  \n\n[5 rows x 337 columns]",
      "text/html": "<div>\n<style scoped>\n    .dataframe tbody tr th:only-of-type {\n        vertical-align: middle;\n    }\n\n    .dataframe tbody tr th {\n        vertical-align: top;\n    }\n\n    .dataframe thead th {\n        text-align: right;\n    }\n</style>\n<table border=\"1\" class=\"dataframe\">\n  <thead>\n    <tr style=\"text-align: right;\">\n      <th></th>\n      <th>id</th>\n      <th>20-6-2013</th>\n      <th>21-6-2013</th>\n      <th>22-6-2013</th>\n      <th>23-6-2013</th>\n      <th>24-6-2013</th>\n      <th>25-6-2013</th>\n      <th>26-6-2013</th>\n      <th>27-6-2013</th>\n      <th>28-6-2013</th>\n      <th>...</th>\n      <th>12-5-2014</th>\n      <th>13-5-2014</th>\n      <th>city</th>\n      <th>gender</th>\n      <th>age</th>\n      <th>hh_size</th>\n      <th>education</th>\n      <th>education_1</th>\n      <th>height</th>\n      <th>weight</th>\n    </tr>\n  </thead>\n  <tbody>\n    <tr>\n      <th>0</th>\n      <td>1</td>\n      <td>NaN</td>\n      <td>NaN</td>\n      <td>NaN</td>\n      <td>NaN</td>\n      <td>3941.0</td>\n      <td>15733.0</td>\n      <td>9929.0</td>\n      <td>12879.0</td>\n      <td>10541.0</td>\n      <td>...</td>\n      <td>NaN</td>\n      <td>NaN</td>\n      <td>Bordeaux</td>\n      <td>Male</td>\n      <td>25-34</td>\n      <td>4</td>\n      <td>4</td>\n      <td>Master or doctorate</td>\n      <td>178.0</td>\n      <td>98.0</td>\n    </tr>\n    <tr>\n      <th>1</th>\n      <td>2</td>\n      <td>NaN</td>\n      <td>NaN</td>\n      <td>10473.0</td>\n      <td>705.0</td>\n      <td>4287.0</td>\n      <td>5507.0</td>\n      <td>4024.0</td>\n      <td>3926.0</td>\n      <td>14595.0</td>\n      <td>...</td>\n      <td>NaN</td>\n      <td>NaN</td>\n      <td>Lille</td>\n      <td>Male</td>\n      <td>35-44</td>\n      <td>1</td>\n      <td>3</td>\n      <td>Bachelor</td>\n      <td>180.0</td>\n      <td>77.0</td>\n    </tr>\n    <tr>\n      <th>2</th>\n      <td>3</td>\n      <td>NaN</td>\n      <td>11428.0</td>\n      <td>12523.0</td>\n      <td>2553.0</td>\n      <td>190.0</td>\n      <td>2164.0</td>\n      <td>8185.0</td>\n      <td>9630.0</td>\n      <td>8983.0</td>\n      <td>...</td>\n      <td>1129.0</td>\n      <td>NaN</td>\n      <td>Montpellier</td>\n      <td>Male</td>\n      <td>25-34</td>\n      <td>2</td>\n      <td>2</td>\n      <td>Master or doctorate</td>\n      <td>180.0</td>\n      <td>83.0</td>\n    </tr>\n    <tr>\n      <th>3</th>\n      <td>4</td>\n      <td>NaN</td>\n      <td>NaN</td>\n      <td>NaN</td>\n      <td>NaN</td>\n      <td>NaN</td>\n      <td>NaN</td>\n      <td>NaN</td>\n      <td>NaN</td>\n      <td>NaN</td>\n      <td>...</td>\n      <td>NaN</td>\n      <td>NaN</td>\n      <td>Lyon</td>\n      <td>Male</td>\n      <td>&lt;25</td>\n      <td>1</td>\n      <td>1</td>\n      <td>Bachelor</td>\n      <td>178.0</td>\n      <td>80.0</td>\n    </tr>\n    <tr>\n      <th>4</th>\n      <td>5</td>\n      <td>NaN</td>\n      <td>NaN</td>\n      <td>NaN</td>\n      <td>NaN</td>\n      <td>NaN</td>\n      <td>NaN</td>\n      <td>NaN</td>\n      <td>NaN</td>\n      <td>NaN</td>\n      <td>...</td>\n      <td>NaN</td>\n      <td>NaN</td>\n      <td>Montpellier</td>\n      <td>Female</td>\n      <td>25-34</td>\n      <td>3</td>\n      <td>4</td>\n      <td>Bachelor</td>\n      <td>167.0</td>\n      <td>61.0</td>\n    </tr>\n  </tbody>\n</table>\n<p>5 rows × 337 columns</p>\n</div>"
     },
     "execution_count": 134,
     "metadata": {},
     "output_type": "execute_result"
    }
   ],
   "source": [
    "df.head()"
   ]
  },
  {
   "cell_type": "code",
   "execution_count": 135,
   "id": "660a1477-3164-4ff7-a7ba-29249aeed88a",
   "metadata": {},
   "outputs": [
    {
     "name": "stderr",
     "output_type": "stream",
     "text": [
      "/Users/stephenbehren/opt/anaconda3/lib/python3.9/site-packages/seaborn/distributions.py:2619: FutureWarning: `distplot` is a deprecated function and will be removed in a future version. Please adapt your code to use either `displot` (a figure-level function with similar flexibility) or `histplot` (an axes-level function for histograms).\n",
      "  warnings.warn(msg, FutureWarning)\n"
     ]
    },
    {
     "data": {
      "text/plain": "<AxesSubplot:xlabel='weight'>"
     },
     "execution_count": 135,
     "metadata": {},
     "output_type": "execute_result"
    },
    {
     "data": {
      "text/plain": "<Figure size 432x288 with 1 Axes>",
      "image/png": "[encoded data removed]"
     },
     "metadata": {},
     "output_type": "display_data"
    }
   ],
   "source": [
    "df2 = df[(df[\"weight\"] < 200) & (df[\"weight\"] > 35)]\n",
    "sns.distplot(df2[\"weight\"], kde=False)"
   ]
  },
  {
   "cell_type": "code",
   "execution_count": 136,
   "id": "63d743f7-0f24-4764-96c6-1f16c3e0e8ae",
   "metadata": {},
   "outputs": [
    {
     "name": "stderr",
     "output_type": "stream",
     "text": [
      "/var/folders/g0/8836d8zd32s985cdf6c4jdp40000gn/T/ipykernel_7441/1224773579.py:1: FutureWarning: Dropping of nuisance columns in DataFrame reductions (with 'numeric_only=None') is deprecated; in a future version this will raise TypeError.  Select only valid columns before calling the reduction.\n",
      "  df['meanSteps'] = df.loc[:,'20-6-2013':].mean(axis=1).round(0)\n"
     ]
    }
   ],
   "source": [
    "df['meanSteps'] = df.loc[:,'20-6-2013':].mean(axis=1).round(0)"
   ]
  },
  {
   "cell_type": "code",
   "execution_count": 137,
   "id": "530c0f44-da07-476e-83f5-ba3420fa23b4",
   "metadata": {},
   "outputs": [
    {
     "data": {
      "text/plain": "   id  20-6-2013  21-6-2013  22-6-2013  23-6-2013  24-6-2013  25-6-2013  \\\n0   1        NaN        NaN        NaN        NaN     3941.0    15733.0   \n1   2        NaN        NaN    10473.0      705.0     4287.0     5507.0   \n2   3        NaN    11428.0    12523.0     2553.0      190.0     2164.0   \n3   4        NaN        NaN        NaN        NaN        NaN        NaN   \n4   5        NaN        NaN        NaN        NaN        NaN        NaN   \n\n   26-6-2013  27-6-2013  28-6-2013  ...  13-5-2014         city  gender  \\\n0     9929.0    12879.0    10541.0  ...        NaN     Bordeaux    Male   \n1     4024.0     3926.0    14595.0  ...        NaN        Lille    Male   \n2     8185.0     9630.0     8983.0  ...        NaN  Montpellier    Male   \n3        NaN        NaN        NaN  ...        NaN         Lyon    Male   \n4        NaN        NaN        NaN  ...        NaN  Montpellier  Female   \n\n     age  hh_size  education          education_1  height  weight  meanSteps  \n0  25-34        4          4  Master or doctorate   178.0    98.0     9966.0  \n1  35-44        1          3             Bachelor   180.0    77.0     5553.0  \n2  25-34        2          2  Master or doctorate   180.0    83.0     8085.0  \n3    <25        1          1             Bachelor   178.0    80.0     3038.0  \n4  25-34        3          4             Bachelor   167.0    61.0     4950.0  \n\n[5 rows x 338 columns]",
      "text/html": "<div>\n<style scoped>\n    .dataframe tbody tr th:only-of-type {\n        vertical-align: middle;\n    }\n\n    .dataframe tbody tr th {\n        vertical-align: top;\n    }\n\n    .dataframe thead th {\n        text-align: right;\n    }\n</style>\n<table border=\"1\" class=\"dataframe\">\n  <thead>\n    <tr style=\"text-align: right;\">\n      <th></th>\n      <th>id</th>\n      <th>20-6-2013</th>\n      <th>21-6-2013</th>\n      <th>22-6-2013</th>\n      <th>23-6-2013</th>\n      <th>24-6-2013</th>\n      <th>25-6-2013</th>\n      <th>26-6-2013</th>\n      <th>27-6-2013</th>\n      <th>28-6-2013</th>\n      <th>...</th>\n      <th>13-5-2014</th>\n      <th>city</th>\n      <th>gender</th>\n      <th>age</th>\n      <th>hh_size</th>\n      <th>education</th>\n      <th>education_1</th>\n      <th>height</th>\n      <th>weight</th>\n      <th>meanSteps</th>\n    </tr>\n  </thead>\n  <tbody>\n    <tr>\n      <th>0</th>\n      <td>1</td>\n      <td>NaN</td>\n      <td>NaN</td>\n      <td>NaN</td>\n      <td>NaN</td>\n      <td>3941.0</td>\n      <td>15733.0</td>\n      <td>9929.0</td>\n      <td>12879.0</td>\n      <td>10541.0</td>\n      <td>...</td>\n      <td>NaN</td>\n      <td>Bordeaux</td>\n      <td>Male</td>\n      <td>25-34</td>\n      <td>4</td>\n      <td>4</td>\n      <td>Master or doctorate</td>\n      <td>178.0</td>\n      <td>98.0</td>\n      <td>9966.0</td>\n    </tr>\n    <tr>\n      <th>1</th>\n      <td>2</td>\n      <td>NaN</td>\n      <td>NaN</td>\n      <td>10473.0</td>\n      <td>705.0</td>\n      <td>4287.0</td>\n      <td>5507.0</td>\n      <td>4024.0</td>\n      <td>3926.0</td>\n      <td>14595.0</td>\n      <td>...</td>\n      <td>NaN</td>\n      <td>Lille</td>\n      <td>Male</td>\n      <td>35-44</td>\n      <td>1</td>\n      <td>3</td>\n      <td>Bachelor</td>\n      <td>180.0</td>\n      <td>77.0</td>\n      <td>5553.0</td>\n    </tr>\n    <tr>\n      <th>2</th>\n      <td>3</td>\n      <td>NaN</td>\n      <td>11428.0</td>\n      <td>12523.0</td>\n      <td>2553.0</td>\n      <td>190.0</td>\n      <td>2164.0</td>\n      <td>8185.0</td>\n      <td>9630.0</td>\n      <td>8983.0</td>\n      <td>...</td>\n      <td>NaN</td>\n      <td>Montpellier</td>\n      <td>Male</td>\n      <td>25-34</td>\n      <td>2</td>\n      <td>2</td>\n      <td>Master or doctorate</td>\n      <td>180.0</td>\n      <td>83.0</td>\n      <td>8085.0</td>\n    </tr>\n    <tr>\n      <th>3</th>\n      <td>4</td>\n      <td>NaN</td>\n      <td>NaN</td>\n      <td>NaN</td>\n      <td>NaN</td>\n      <td>NaN</td>\n      <td>NaN</td>\n      <td>NaN</td>\n      <td>NaN</td>\n      <td>NaN</td>\n      <td>...</td>\n      <td>NaN</td>\n      <td>Lyon</td>\n      <td>Male</td>\n      <td>&lt;25</td>\n      <td>1</td>\n      <td>1</td>\n      <td>Bachelor</td>\n      <td>178.0</td>\n      <td>80.0</td>\n      <td>3038.0</td>\n    </tr>\n    <tr>\n      <th>4</th>\n      <td>5</td>\n      <td>NaN</td>\n      <td>NaN</td>\n      <td>NaN</td>\n      <td>NaN</td>\n      <td>NaN</td>\n      <td>NaN</td>\n      <td>NaN</td>\n      <td>NaN</td>\n      <td>NaN</td>\n      <td>...</td>\n      <td>NaN</td>\n      <td>Montpellier</td>\n      <td>Female</td>\n      <td>25-34</td>\n      <td>3</td>\n      <td>4</td>\n      <td>Bachelor</td>\n      <td>167.0</td>\n      <td>61.0</td>\n      <td>4950.0</td>\n    </tr>\n  </tbody>\n</table>\n<p>5 rows × 338 columns</p>\n</div>"
     },
     "execution_count": 137,
     "metadata": {},
     "output_type": "execute_result"
    }
   ],
   "source": [
    "df.head()"
   ]
  },
  {
   "cell_type": "code",
   "execution_count": 138,
   "id": "7e3d79f7-8e5f-473a-9142-2fe6fa791263",
   "metadata": {},
   "outputs": [
    {
     "name": "stderr",
     "output_type": "stream",
     "text": [
      "/Users/stephenbehren/opt/anaconda3/lib/python3.9/site-packages/seaborn/_decorators.py:36: FutureWarning: Pass the following variable as a keyword arg: x. From version 0.12, the only valid positional argument will be `data`, and passing other arguments without an explicit keyword will result in an error or misinterpretation.\n",
      "  warnings.warn(\n"
     ]
    },
    {
     "data": {
      "text/plain": "<AxesSubplot:xlabel='meanSteps'>"
     },
     "execution_count": 138,
     "metadata": {},
     "output_type": "execute_result"
    },
    {
     "data": {
      "text/plain": "<Figure size 432x288 with 1 Axes>",
      "image/png": "[encoded data removed]"
     },
     "metadata": {},
     "output_type": "display_data"
    }
   ],
   "source": [
    "sns.violinplot(df['meanSteps'])"
   ]
  },
  {
   "cell_type": "code",
   "execution_count": 138,
   "outputs": [],
   "source": [],
   "metadata": {
    "collapsed": false
   }
  }
 ],
 "metadata": {
  "kernelspec": {
   "display_name": "Python 3 (ipykernel)",
   "language": "python",
   "name": "python3"
  },
  "language_info": {
   "codemirror_mode": {
    "name": "ipython",
    "version": 3
   },
   "file_extension": ".py",
   "mimetype": "text/x-python",
   "name": "python",
   "nbconvert_exporter": "python",
   "pygments_lexer": "ipython3",
   "version": "3.9.12"
  }
 },
 "nbformat": 4,
 "nbformat_minor": 5
}
